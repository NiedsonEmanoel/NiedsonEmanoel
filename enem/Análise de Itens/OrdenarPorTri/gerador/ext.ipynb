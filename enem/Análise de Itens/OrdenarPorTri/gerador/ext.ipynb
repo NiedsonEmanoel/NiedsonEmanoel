{
 "cells": [
  {
   "cell_type": "code",
   "execution_count": 17,
   "metadata": {},
   "outputs": [],
   "source": [
    "import pandas as pd\n",
    "import numpy as np\n",
    "import requests\n",
    "import numpy as np\n",
    "import cv2\n",
    "import pytesseract\n",
    "pytesseract.pytesseract.tesseract_cmd = './Tesseract/Tesseract.exe'\n",
    "import os"
   ]
  },
  {
   "cell_type": "code",
   "execution_count": 18,
   "metadata": {},
   "outputs": [],
   "source": [
    "def tri_3pl_enem(theta, a, b, c):\n",
    "    return c + (1 - c) / (1 + np.exp(-a * (theta - b)))"
   ]
  },
  {
   "cell_type": "code",
   "execution_count": 19,
   "metadata": {},
   "outputs": [],
   "source": [
    "def find_quantile(c):\n",
    "    return round(((1+c)/2)*100, 2)"
   ]
  },
  {
   "cell_type": "code",
   "execution_count": 20,
   "metadata": {},
   "outputs": [],
   "source": [
    "def imageApi(code):\n",
    "    code = str(str(code) + '.png')\n",
    "    imagem = 'https://niedsonemanoel.com.br/enem/An%C3%A1lise%20de%20Itens/OrdenarPorTri/1.%20Itens%20BNI_/' + code\n",
    "    return imagem"
   ]
  },
  {
   "cell_type": "code",
   "execution_count": 21,
   "metadata": {},
   "outputs": [],
   "source": [
    "def get_prova_string(ano, co_prova, sg, cor):\n",
    "    if ano == 2017:\n",
    "      if co_prova in [201711,201710,201712,201709]:\n",
    "          return str(str(sg)+' '+str(cor)+' REGULAR')\n",
    "      else:\n",
    "          return str(str(sg)+' '+str(cor)+' PPL')\n",
    "    else: return str(str(sg)+' '+str(cor)+' REGULAR')"
   ]
  },
  {
   "cell_type": "code",
   "execution_count": 22,
   "metadata": {},
   "outputs": [],
   "source": [
    "# Encontrando o valor de theta que resulta em targ\n",
    "def find_theta(a, b, c, targ):\n",
    "    left = -100\n",
    "    right = 100\n",
    "    tol = 1e-5\n",
    "    if (targ == 0.6):\n",
    "      target = find_quantile(c)/100\n",
    "    else:\n",
    "      target = targ\n",
    "    while (right - left) / 2 > tol:\n",
    "        theta = (left + right) / 2\n",
    "        value = tri_3pl_enem(theta, a, b, c)\n",
    "        if value > target:\n",
    "            right = theta\n",
    "        else:\n",
    "            left = theta\n",
    "    return theta * 100 + 500"
   ]
  },
  {
   "cell_type": "code",
   "execution_count": null,
   "metadata": {},
   "outputs": [],
   "source": [
    "def ocrImage(code):\n",
    "    output_file='../1. Itens BNI_/TXT/'+str(code)+'.txt'\n",
    "    if os.path.exists(output_file):\n",
    "        with open(output_file, 'r', encoding='utf-8') as file:\n",
    "            return file.read()\n",
    "\n",
    "    code = 'https://raw.githubusercontent.com/NiedsonEmanoel/NiedsonEmanoel/main/enem/An%C3%A1lise%20de%20Itens/OrdenarPorTri/1.%20Itens%20BNI_/'+str(str(code) + '.png')\n",
    "    try:\n",
    "        response = requests.get(code)\n",
    "        img_array = np.array(bytearray(response.content), dtype=np.uint8)\n",
    "\n",
    "        # Decodificar a imagem usando o OpenCV\n",
    "        img = cv2.imdecode(img_array, cv2.IMREAD_COLOR)\n",
    "        ocrT = str(pytesseract.image_to_string(img, lang='por'))\n",
    "\n",
    "        # Salvar o resultado no arquivo .txt se o arquivo não existir\n",
    "        with open(output_file, 'w', encoding='utf-8') as file:\n",
    "            file.write(ocrT)\n",
    "            print(f\"Arquivo '{output_file}' criado com sucesso!\")\n",
    "    except Exception as e:\n",
    "        print(f\"Ocorreu um erro: {e}\")\n",
    "        ocrT = 'N/A'\n",
    "    return ocrT\n",
    "\n",
    "# Chamar a função para processar a imagem e salvar o resultado em um arquivo .txt se ele não existir\n",
    "resultado_ocr = ocrImage(23448)\n",
    "print(resultado_ocr)"
   ]
  },
  {
   "cell_type": "code",
   "execution_count": 23,
   "metadata": {},
   "outputs": [],
   "source": [
    "def toENEM(dfItens, ano, provas):\n",
    "    dfItens = dfItens[dfItens['TP_CERTIFICACAO'] == 2]\n",
    "    dfItens = dfItens[dfItens.CO_PROVA.isin(provas)]\n",
    "\n",
    "    dfItens['ANO'] = ano\n",
    "    dfItens['IN_ENCCEJA'] = 1\n",
    "    dfItens['IN_ENEM'] = 0\n",
    "    dfItens['CO_PROVA'] = dfItens.apply(lambda row: get_prova_string(row['ANO'], row['CO_PROVA'], row['SG_AREA'], row['TX_COR'],), axis=1)\n",
    "    \n",
    "    for i in dfItens.index:\n",
    "        dfItens.loc[i, \"theta_065\"] = find_theta(\n",
    "            dfItens.loc[i, \"NU_PARAM_A\"],\n",
    "            dfItens.loc[i, \"NU_PARAM_B\"],\n",
    "            dfItens.loc[i, \"NU_PARAM_C\"],\n",
    "            (find_quantile(dfItens.loc[i, \"NU_PARAM_C\"])/100),\n",
    "        )\n",
    "        dfItens.loc[i, \"theta_080\"] = find_theta(\n",
    "            dfItens.loc[i, \"NU_PARAM_A\"],\n",
    "            dfItens.loc[i, \"NU_PARAM_B\"],\n",
    "            dfItens.loc[i, \"NU_PARAM_C\"],\n",
    "            0.80,\n",
    "        )\n",
    "        dfItens.loc[i, \"theta_099\"] = find_theta(\n",
    "            dfItens.loc[i, \"NU_PARAM_A\"],\n",
    "            dfItens.loc[i, \"NU_PARAM_B\"],\n",
    "            dfItens.loc[i, \"NU_PARAM_C\"],\n",
    "            0.99,\n",
    "        )\n",
    "        dfItens.loc[i, 'PercentEspAcerto'] = find_quantile(\n",
    "            dfItens.loc[i, \"NU_PARAM_C\"]\n",
    "        )\n",
    "\n",
    "    del dfItens['TP_CERTIFICACAO']\n",
    "\n",
    "    dfItens.to_csv(str(ano)+'_ENCCEJA_ITENS_PROVA.csv', index=False, sep=\";\", encoding=\"latin-1\")\n",
    "    dfItens.to_excel('Itens Externos/ITENS_ENCCEJA/'+str(ano)+'_ENCCEJA_ITENS_PROVA.xlsx', index=False)\n",
    "    return dfItens"
   ]
  },
  {
   "cell_type": "code",
   "execution_count": 24,
   "metadata": {},
   "outputs": [],
   "source": [
    "toENEM(\n",
    "    pd.read_csv('Itens Externos/ITENS_ENCCEJA/MICRODADOS_ENCCEJA_ITENS_PROVA.csv', sep=\";\", encoding=\"latin-1\"),\n",
    "    2017,\n",
    "    [201711, 201710, 201712, 201709, 201723, 201722, 201724, 201721]\n",
    "    )\n",
    "\n",
    "pd2018 = pd.read_csv('Itens Externos/ITENS_ENCCEJA/ITENS_PROVA_2018.csv', sep=\";\", encoding=\"latin-1\")\n",
    "pd2019 = pd.read_csv('Itens Externos/ITENS_ENCCEJA/MICRODADOS_ENCCEJA_ITENS_PROVA_2019.csv', sep=\";\", encoding=\"latin-1\")\n",
    "pd2020 = pd.read_csv('Itens Externos/ITENS_ENCCEJA/MICRODADOS_ENCCEJA_ITENS_PROVA_2020.csv', sep=\";\", encoding=\"latin-1\")"
   ]
  }
 ],
 "metadata": {
  "kernelspec": {
   "display_name": "base",
   "language": "python",
   "name": "python3"
  },
  "language_info": {
   "codemirror_mode": {
    "name": "ipython",
    "version": 3
   },
   "file_extension": ".py",
   "mimetype": "text/x-python",
   "name": "python",
   "nbconvert_exporter": "python",
   "pygments_lexer": "ipython3",
   "version": "3.11.5"
  }
 },
 "nbformat": 4,
 "nbformat_minor": 2
}
